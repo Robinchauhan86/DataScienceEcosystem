{
 "cells": [
  {
   "cell_type": "code",
   "execution_count": null,
   "id": "70d1d43c-f89e-40e2-9173-5e4edb8a63a5",
   "metadata": {},
   "outputs": [],
   "source": []
  },
  {
   "cell_type": "markdown",
   "id": "1ee79541-6df6-4141-922f-fbf589f8c32b",
   "metadata": {},
   "source": [
    "# My First Notebook"
   ]
  },
  {
   "cell_type": "markdown",
   "id": "bb91814a-69f2-4927-a2ed-b23a60de4d9b",
   "metadata": {},
   "source": [
    "## Introduction\n",
    "\n",
    "Welcome to my notebook! In this notebook, we will explore Data Science with python, including key concepts, examples, and practical applications. This will help us understand how Data Science can be utilized in various scenarios.\n"
   ]
  },
  {
   "cell_type": "markdown",
   "id": "395f48e9-9166-4fb2-ae77-24080106e9ba",
   "metadata": {},
   "source": [
    "## Data Science Languages\n",
    "\n",
    "Here are some popular languages used in data science:\n",
    "\n",
    "- Python\n",
    "- R\n",
    "- SQL\n",
    "- Julia\n",
    "- Scala\n",
    "- Java\n",
    "- JavaScript\n",
    "- C++\n"
   ]
  },
  {
   "cell_type": "code",
   "execution_count": null,
   "id": "7cd10af6-2b87-435e-a744-97cb6f9fe09e",
   "metadata": {},
   "outputs": [],
   "source": []
  },
  {
   "cell_type": "markdown",
   "id": "f85ad843-3053-4ec3-b6ee-8d08824d0419",
   "metadata": {},
   "source": [
    "## Data Science Libraries\n",
    "\n",
    "Here are some popular libraries used in data science:\n",
    "\n",
    "- **Pandas**: Data manipulation and analysis.\n",
    "- **NumPy**: Numerical computing with support for large, multi-dimensional arrays and matrices.\n",
    "- **Matplotlib**: Data visualization library for creating static, animated, and interactive visualizations.\n",
    "- **Seaborn**: Statistical data visualization built on top of Matplotlib.\n",
    "- **Scikit-learn**: Machine learning library for Python.\n",
    "- **TensorFlow**: Open-source library for machine learning and deep learning.\n",
    "- **Keras**: High-level neural networks API, running on top of TensorFlow.\n",
    "- **Statsmodels**: Statistical modeling and hypothesis testing.\n"
   ]
  },
  {
   "cell_type": "code",
   "execution_count": null,
   "id": "2c40dcd3-fec4-47a4-a743-4d8cf15c87ce",
   "metadata": {},
   "outputs": [],
   "source": []
  },
  {
   "cell_type": "markdown",
   "id": "289e6890-c259-4ad7-b3ff-97996f6bb21e",
   "metadata": {},
   "source": [
    "## Data Science Tools\n",
    "\n",
    "| Tool              | Purpose                              |\n",
    "|-------------------|--------------------------------------|\n",
    "| Jupyter Notebook   | Interactive coding and visualization |\n",
    "| RStudio           | R programming and data analysis      |\n",
    "| Apache Spark      | Big data processing                   |\n",
    "| Tableau           | Data visualization                    |\n",
    "| GitHub            | Version control and collaboration     |\n",
    "| TensorFlow        | Machine learning and deep learning    |\n",
    "| Scikit-learn      | Machine learning and data mining      |\n",
    "| Pandas            | Data manipulation and analysis        |\n",
    "\n"
   ]
  },
  {
   "cell_type": "code",
   "execution_count": null,
   "id": "886171e5-c3bd-4868-a6e2-d84c3fd14d46",
   "metadata": {},
   "outputs": [],
   "source": []
  },
  {
   "cell_type": "markdown",
   "id": "c1a0baeb-945b-43a6-bad3-04efc5a9c604",
   "metadata": {},
   "source": [
    "## Arithmetic Expression Examples\n",
    "\n",
    "In this section, we will explore some basic arithmetic expressions commonly used in programming and data analysis. Arithmetic expressions allow us to perform calculations and manipulate numerical data. \n",
    "\n",
    "Examples of arithmetic operations include:\n",
    "- Addition (`+`)\n",
    "- Subtraction (`-`)\n",
    "- Multiplication (`*`)\n",
    "- Division (`/`)\n",
    "- Modulus (`%`) - which gives the remainder of a division.\n",
    "\n",
    "Let's see some examples of these expressions in action!\n"
   ]
  },
  {
   "cell_type": "code",
   "execution_count": null,
   "id": "6a7a3170-504e-4add-a3d2-ecad402e4c08",
   "metadata": {},
   "outputs": [],
   "source": []
  },
  {
   "cell_type": "code",
   "execution_count": 1,
   "id": "e6ce3068-3121-40fb-af09-d244245f712b",
   "metadata": {},
   "outputs": [
    {
     "name": "stdout",
     "output_type": "stream",
     "text": [
      "Multiplication Result: 50\n",
      "Addition Result: 15\n"
     ]
    }
   ],
   "source": [
    "# Define two numbers\n",
    "a = 5\n",
    "b = 10\n",
    "\n",
    "# Multiply the numbers\n",
    "multiplication_result = a * b\n",
    "\n",
    "# Add the numbers\n",
    "addition_result = a + b\n",
    "\n",
    "# Print the results\n",
    "print(\"Multiplication Result:\", multiplication_result)\n",
    "print(\"Addition Result:\", addition_result)\n"
   ]
  },
  {
   "cell_type": "code",
   "execution_count": null,
   "id": "67733d7f-16ad-4235-99b2-ff80ad581bd9",
   "metadata": {},
   "outputs": [],
   "source": []
  },
  {
   "cell_type": "code",
   "execution_count": 2,
   "id": "7b350fb8-505a-4757-b557-8ddf4a6cce16",
   "metadata": {},
   "outputs": [
    {
     "name": "stdout",
     "output_type": "stream",
     "text": [
      "150 minutes is equal to 2.5 hours.\n"
     ]
    }
   ],
   "source": [
    "# Function to convert minutes to hours\n",
    "def convert_minutes_to_hours(minutes):\n",
    "    hours = minutes / 60\n",
    "    return hours\n",
    "\n",
    "# Example: Convert 150 minutes to hours\n",
    "minutes = 150\n",
    "hours = convert_minutes_to_hours(minutes)\n",
    "\n",
    "# Print the result\n",
    "print(f\"{minutes} minutes is equal to {hours} hours.\")\n"
   ]
  },
  {
   "cell_type": "code",
   "execution_count": null,
   "id": "a431bc51-870a-4ee9-8e01-57a575d90289",
   "metadata": {},
   "outputs": [],
   "source": []
  },
  {
   "cell_type": "markdown",
   "id": "4763df7f-37d8-42f6-bd11-2dcb28bd0476",
   "metadata": {},
   "source": [
    "## Objectives\n",
    "\n",
    "The main objectives of this notebook are:\n",
    "\n",
    "- Understand the basics of data science and its importance.\n",
    "- Learn about different data science languages and libraries.\n",
    "- Explore arithmetic operations and their applications in data analysis.\n",
    "- Gain hands-on experience with coding in Python.\n",
    "- Convert time units and perform simple calculations.\n"
   ]
  },
  {
   "cell_type": "code",
   "execution_count": null,
   "id": "0c2707f3-4338-4fd8-9b8f-9907e97ef752",
   "metadata": {},
   "outputs": [],
   "source": []
  },
  {
   "cell_type": "markdown",
   "id": "7b18eaa1-3421-4dff-b282-328cce1e5893",
   "metadata": {},
   "source": [
    "## Author\n",
    "\n",
    "This notebook was created by Robin Chauhan.\n"
   ]
  },
  {
   "cell_type": "code",
   "execution_count": null,
   "id": "ffef046a-daed-4b49-a333-a6a699cf1804",
   "metadata": {},
   "outputs": [],
   "source": []
  }
 ],
 "metadata": {
  "kernelspec": {
   "display_name": "Python 3 (ipykernel)",
   "language": "python",
   "name": "python3"
  },
  "language_info": {
   "codemirror_mode": {
    "name": "ipython",
    "version": 3
   },
   "file_extension": ".py",
   "mimetype": "text/x-python",
   "name": "python",
   "nbconvert_exporter": "python",
   "pygments_lexer": "ipython3",
   "version": "3.12.4"
  }
 },
 "nbformat": 4,
 "nbformat_minor": 5
}
